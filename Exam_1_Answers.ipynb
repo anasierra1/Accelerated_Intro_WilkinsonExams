{
 "cells": [
  {
   "cell_type": "markdown",
   "metadata": {},
   "source": [
    "# Problem 2¶\n",
    "Create a directory listing command that shows:\n",
    "\n",
    "the ownership of the file\n",
    "it's file-size, in Megabytes (i.e. human readable)\n",
    "in words (in the text box), describe the permissions on that file (read/write/execute) for users, groups, and \"anyone\""
   ]
  },
  {
   "cell_type": "code",
   "execution_count": null,
   "metadata": {},
   "outputs": [],
   "source": [
    "dir -lah #dir list information about files and permission: -l use long format directories -a prints all the files including the ones starting with . -h print human readable sizes"
   ]
  },
  {
   "cell_type": "markdown",
   "metadata": {},
   "source": [
    "Every file has 3 types of owners, the first 3 letters indicates the permissions of the user (the owner of the file), the next three letters are the permissions of the groups (a group can contain many users) so users in the same group can have access to the same file, the last 3 letters indicates the permission for other people (that had neither create the file and are not in the group-users) to that file.\n",
    "\n",
    "The 3 letters indicates the permission to read the file (r), edit the file (w) or excuting the file (x)."
   ]
  },
  {
   "cell_type": "markdown",
   "metadata": {},
   "source": [
    "Problem 3¶\n",
    "Create a command that outputs only the \"header\" line"
   ]
  },
  {
   "cell_type": "code",
   "execution_count": null,
   "metadata": {},
   "outputs": [],
   "source": [
    "head -1 Locus_Germplasm_Phenotype_20130122.txt # Head shows the first lines of a file with the option -1 it only prints the first line (the header)"
   ]
  },
  {
   "cell_type": "markdown",
   "metadata": {},
   "source": [
    "Problem 4\n",
    "Create a command that outputs the total number of lines in the file"
   ]
  },
  {
   "cell_type": "code",
   "execution_count": null,
   "metadata": {},
   "outputs": [],
   "source": [
    "wc -l Locus_Germplasm_Phenotype_20130122.txt #wc -> prints newline, words or characters in the file, with -l we can print the number of newlines"
   ]
  },
  {
   "cell_type": "markdown",
   "metadata": {},
   "source": [
    "Problem 5\n",
    "Create a command that writes ONLY the data lines (i.e. excludes the header!) to a new file called \"Data_Only.csv\"\n",
    "prove that your output file has the expected number of lines\n"
   ]
  },
  {
   "cell_type": "code",
   "execution_count": null,
   "metadata": {},
   "outputs": [],
   "source": [
    "tail -7215 Locus_Germplasm_Phenotype_20130122.txt > Data_Only.csv # tail shows the last lines of the file, so we are showing all the lines except the header and with > we create the new file with the content of the first command\n",
    "wc -l Data_Only.csv # we check the the lines of the new file "
   ]
  },
  {
   "cell_type": "markdown",
   "metadata": {},
   "source": [
    "Problem 6¶\n",
    "Create a command that shows all of the lines that have a phenotype including the word \"root\""
   ]
  },
  {
   "cell_type": "code",
   "execution_count": null,
   "metadata": {},
   "outputs": [],
   "source": [
    "grep -in \"root\" Locus_Germplasm_Phenotype_20130122.txt #grep : look for patterns in files \n",
    "# -i -> ignores cases distinctions\n",
    "# -n -> print the number of the line"
   ]
  },
  {
   "cell_type": "markdown",
   "metadata": {},
   "source": [
    "Problem 7¶\n",
    "Create a command that writes the AGI Locus Code for every line that has a phenotype including the word \"root\" to a file called: \n",
    "\"Root-associated-Loci.txt\""
   ]
  },
  {
   "cell_type": "code",
   "execution_count": null,
   "metadata": {},
   "outputs": [],
   "source": [
    "grep -in \"root\" Locus_Germplasm_Phenotype_20130122.txt | grep -Eio  \"AT[1-5]G[0-9]+\" > Root-associated-Loci.txt\n",
    "# we first look for the word root to filter only those and after we for the AGI locus code in the first output \n",
    "# -E -> for extended regular expressions / -o to print only the match\n",
    "# \"AT[1-5]G[0-9]+\"  -> expression to define the AGI code "
   ]
  },
  {
   "cell_type": "markdown",
   "metadata": {},
   "source": [
    "Problem 8¶\n",
    "Create a command that writes the PubMed ID for every line that has a phenotype including the word \"root\" to a file called: \n",
    "\"Root-associated-Publications.txt\""
   ]
  },
  {
   "cell_type": "code",
   "execution_count": null,
   "metadata": {},
   "outputs": [],
   "source": [
    "grep -in \"root\" Locus_Germplasm_Phenotype_20130122.txt | grep -Eio  \"\\s[0-9]+$\" > Root-associated-Publications.txt\n",
    "#We do the same as in problem 8 put now the pattern is different we put \\s -> start with space, [0-9]+ we look for several number from 0 to 9 and we put $ as they are at the end of the line "
   ]
  },
  {
   "cell_type": "markdown",
   "metadata": {},
   "source": [
    "Problem 9¶\n",
    "Control experiment: You would hypothesize that genes associated with roots should be found on all chromosomes. Find a way (one or more commands) to test this hypothesis. In this dataset, is the hypothesis true?"
   ]
  },
  {
   "cell_type": "code",
   "execution_count": null,
   "metadata": {},
   "outputs": [],
   "source": [
    "grep -Eio \"AT[1-5]\"  Root-associated-Loci.txt #this commands print the 3 first characters of the AGI locus the number indicates the chromosome so as we can see there are chromosomes from 1 to 5"
   ]
  },
  {
   "cell_type": "markdown",
   "metadata": {},
   "source": [
    "Problem 10¶\n",
    "This dataset is from the most popular Arabidopsis database on earth! I did not change it! What does your answer to Problem 9 tell you? Can you explain it? What do you learn from this control that you should remember for the rest of your life?!"
   ]
  }
 ],
 "metadata": {
  "kernelspec": {
   "display_name": "Bash",
   "language": "bash",
   "name": "bash"
  },
  "language_info": {
   "codemirror_mode": "shell",
   "file_extension": ".sh",
   "mimetype": "text/x-sh",
   "name": "bash"
  }
 },
 "nbformat": 4,
 "nbformat_minor": 2
}
